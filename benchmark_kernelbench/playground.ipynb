{
 "cells": [
  {
   "cell_type": "code",
   "execution_count": 42,
   "metadata": {},
   "outputs": [],
   "source": [
    "import datasets\n",
    "import os\n",
    "import json\n",
    "from typing import *"
   ]
  },
  {
   "cell_type": "markdown",
   "metadata": {},
   "source": [
    "You must clone their sample dataset before continuing\n",
    "\n",
    "`git clone https://huggingface.co/datasets/ScalingIntelligence/kernelbench-samples`"
   ]
  },
  {
   "cell_type": "code",
   "execution_count": null,
   "metadata": {},
   "outputs": [],
   "source": [
    "\n",
    "def load_kernelbench_baseline_samples(\n",
    "\tpath: str = \"kernelbench-samples\", \n",
    "\tlevel: int = 1, \n",
    "\tmodel: str = \"claude-3.5-sonnet\"\n",
    ") -> datasets.Dataset:\n",
    "\t\"\"\"\n",
    "\tReturns a Huggingface Dataset where each row is the full JSON content \n",
    "\tloaded from kernel.json files.\n",
    "\t\"\"\"\n",
    "\t### Build the baseline path and check if it exists\n",
    "\tbaseline_path = os.path.join(path, \"baseline_eval\", f\"level{level}\", model)\n",
    "\tif not os.path.exists(baseline_path):\n",
    "\t\traise FileNotFoundError(f\"Path does not exist: {baseline_path}\")\n",
    "\n",
    "\t### Initialize a list to hold each JSON sample\n",
    "\tsamples = []\n",
    "\t\n",
    "\t### Walk the directory tree and collect each kernel.json file\n",
    "\tfor root, dirs, files in os.walk(baseline_path):\n",
    "\t\tfor file in files:\n",
    "\t\t\tif file == \"kernel.json\":\n",
    "\t\t\t\tjson_path = os.path.join(root, file)\n",
    "\t\t\t\twith open(json_path, 'r') as f:\n",
    "\t\t\t\t\tsample = json.load(f)\n",
    "\t\t\t\t\t### Edit as necessary\n",
    "\t\t\t\t\tsample[\"name\"] = sample[\"problem_name\"]\n",
    "\t\t\t\t\tsamples.append(sample)\n",
    "\t\t\t\t\t\n",
    "\t### Convert the list of dictionaries into a Huggingface Dataset\n",
    "\treturn datasets.Dataset.from_list(samples)\n"
   ]
  },
  {
   "cell_type": "code",
   "execution_count": 44,
   "metadata": {},
   "outputs": [],
   "source": [
    "# kernelbench_dataset_level_1 = datasets.load_dataset(\"ScalingIntelligence/KernelBench\", split=\"level_1\")"
   ]
  },
  {
   "cell_type": "code",
   "execution_count": null,
   "metadata": {},
   "outputs": [],
   "source": [
    "### List of attributes\n",
    "# print(kernelbench_dataset_level_1.column_names)\n",
    "\n",
    "### kernelbench_dataset_level_1[0] is a dictionary\n",
    "# print(kernelbench_dataset_level_1[0][\"name\"])\n",
    "# print(kernelbench_dataset_level_1[0][\"level\"])\n",
    "# print(kernelbench_dataset_level_1[0][\"problem_id\"])\n",
    "# print(kernelbench_dataset_level_1[0][\"code\"])\n",
    "\n",
    "kernel_baseline_dictionary = load_kernelbench_baseline_samples()\n",
    "# print(kernel_baseline_dictionary.column_names)\n",
    "# print(kernel_baseline_dictionary[0][\"kernel\"])"
   ]
  },
  {
   "cell_type": "code",
   "execution_count": null,
   "metadata": {},
   "outputs": [],
   "source": [
    "### Get the first kernel in the dataset\n",
    "name = kernel_baseline_dictionary[0][\"name\"]\n",
    "kernel = kernel_baseline_dictionary[0][\"kernel\"]\n",
    "level = kernel_baseline_dictionary[0][\"level\"]\n",
    "\n",
    "### Save the kernel to a file (if you'd like)\n",
    "with open(f\"kernelbench-baselines/{name}\", 'w') as f:\n",
    "\tf.write(kernel)"
   ]
  }
 ],
 "metadata": {
  "kernelspec": {
   "display_name": "flashattention",
   "language": "python",
   "name": "python3"
  },
  "language_info": {
   "codemirror_mode": {
    "name": "ipython",
    "version": 3
   },
   "file_extension": ".py",
   "mimetype": "text/x-python",
   "name": "python",
   "nbconvert_exporter": "python",
   "pygments_lexer": "ipython3",
   "version": "3.9.18"
  }
 },
 "nbformat": 4,
 "nbformat_minor": 2
}
